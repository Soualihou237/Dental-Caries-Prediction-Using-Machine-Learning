{
 "cells": [
  {
   "cell_type": "markdown",
   "metadata": {},
   "source": [
    "# Feature Selection using Random Forest"
   ]
  },
  {
   "cell_type": "markdown",
   "metadata": {},
   "source": [
    "## Data inspection"
   ]
  },
  {
   "cell_type": "code",
   "execution_count": 1,
   "metadata": {
    "code_folding": [],
    "scrolled": false
   },
   "outputs": [
    {
     "name": "stdout",
     "output_type": "stream",
     "text": [
      "(22288, 45)\n"
     ]
    },
    {
     "data": {
      "text/html": [
       "<div>\n",
       "<style scoped>\n",
       "    .dataframe tbody tr th:only-of-type {\n",
       "        vertical-align: middle;\n",
       "    }\n",
       "\n",
       "    .dataframe tbody tr th {\n",
       "        vertical-align: top;\n",
       "    }\n",
       "\n",
       "    .dataframe thead th {\n",
       "        text-align: right;\n",
       "    }\n",
       "</style>\n",
       "<table border=\"1\" class=\"dataframe\">\n",
       "  <thead>\n",
       "    <tr style=\"text-align: right;\">\n",
       "      <th></th>\n",
       "      <th>act_caries_p</th>\n",
       "      <th>Sido_No</th>\n",
       "      <th>Region_No</th>\n",
       "      <th>Gender</th>\n",
       "      <th>prev_caries_p</th>\n",
       "      <th>X1</th>\n",
       "      <th>X2</th>\n",
       "      <th>X3</th>\n",
       "      <th>X4_1</th>\n",
       "      <th>X4_2</th>\n",
       "      <th>...</th>\n",
       "      <th>X14_6</th>\n",
       "      <th>X14_7</th>\n",
       "      <th>X14_8</th>\n",
       "      <th>X14_9</th>\n",
       "      <th>x15_1</th>\n",
       "      <th>X16</th>\n",
       "      <th>act_caries_p.1</th>\n",
       "      <th>Calculus</th>\n",
       "      <th>Bleeding</th>\n",
       "      <th>Fluorosis</th>\n",
       "    </tr>\n",
       "  </thead>\n",
       "  <tbody>\n",
       "    <tr>\n",
       "      <th>0</th>\n",
       "      <td>0</td>\n",
       "      <td>14</td>\n",
       "      <td>1</td>\n",
       "      <td>2</td>\n",
       "      <td>1</td>\n",
       "      <td>2</td>\n",
       "      <td>1</td>\n",
       "      <td>2</td>\n",
       "      <td>1</td>\n",
       "      <td>0</td>\n",
       "      <td>...</td>\n",
       "      <td>0</td>\n",
       "      <td>0</td>\n",
       "      <td>0</td>\n",
       "      <td>0</td>\n",
       "      <td>1</td>\n",
       "      <td>3</td>\n",
       "      <td>0</td>\n",
       "      <td>0</td>\n",
       "      <td>0</td>\n",
       "      <td>0</td>\n",
       "    </tr>\n",
       "    <tr>\n",
       "      <th>1</th>\n",
       "      <td>0</td>\n",
       "      <td>12</td>\n",
       "      <td>1</td>\n",
       "      <td>2</td>\n",
       "      <td>1</td>\n",
       "      <td>3</td>\n",
       "      <td>1</td>\n",
       "      <td>1</td>\n",
       "      <td>1</td>\n",
       "      <td>0</td>\n",
       "      <td>...</td>\n",
       "      <td>0</td>\n",
       "      <td>0</td>\n",
       "      <td>0</td>\n",
       "      <td>0</td>\n",
       "      <td>3</td>\n",
       "      <td>3</td>\n",
       "      <td>0</td>\n",
       "      <td>0</td>\n",
       "      <td>0</td>\n",
       "      <td>0</td>\n",
       "    </tr>\n",
       "    <tr>\n",
       "      <th>2</th>\n",
       "      <td>1</td>\n",
       "      <td>11</td>\n",
       "      <td>1</td>\n",
       "      <td>1</td>\n",
       "      <td>0</td>\n",
       "      <td>4</td>\n",
       "      <td>1</td>\n",
       "      <td>2</td>\n",
       "      <td>0</td>\n",
       "      <td>0</td>\n",
       "      <td>...</td>\n",
       "      <td>0</td>\n",
       "      <td>1</td>\n",
       "      <td>0</td>\n",
       "      <td>0</td>\n",
       "      <td>2</td>\n",
       "      <td>2</td>\n",
       "      <td>1</td>\n",
       "      <td>0</td>\n",
       "      <td>0</td>\n",
       "      <td>0</td>\n",
       "    </tr>\n",
       "    <tr>\n",
       "      <th>3</th>\n",
       "      <td>0</td>\n",
       "      <td>25</td>\n",
       "      <td>2</td>\n",
       "      <td>2</td>\n",
       "      <td>1</td>\n",
       "      <td>4</td>\n",
       "      <td>1</td>\n",
       "      <td>2</td>\n",
       "      <td>1</td>\n",
       "      <td>0</td>\n",
       "      <td>...</td>\n",
       "      <td>0</td>\n",
       "      <td>1</td>\n",
       "      <td>0</td>\n",
       "      <td>0</td>\n",
       "      <td>2</td>\n",
       "      <td>1</td>\n",
       "      <td>0</td>\n",
       "      <td>0</td>\n",
       "      <td>0</td>\n",
       "      <td>0</td>\n",
       "    </tr>\n",
       "    <tr>\n",
       "      <th>4</th>\n",
       "      <td>0</td>\n",
       "      <td>26</td>\n",
       "      <td>2</td>\n",
       "      <td>1</td>\n",
       "      <td>1</td>\n",
       "      <td>3</td>\n",
       "      <td>1</td>\n",
       "      <td>2</td>\n",
       "      <td>1</td>\n",
       "      <td>0</td>\n",
       "      <td>...</td>\n",
       "      <td>0</td>\n",
       "      <td>1</td>\n",
       "      <td>0</td>\n",
       "      <td>0</td>\n",
       "      <td>1</td>\n",
       "      <td>3</td>\n",
       "      <td>0</td>\n",
       "      <td>0</td>\n",
       "      <td>0</td>\n",
       "      <td>0</td>\n",
       "    </tr>\n",
       "  </tbody>\n",
       "</table>\n",
       "<p>5 rows × 45 columns</p>\n",
       "</div>"
      ],
      "text/plain": [
       "   act_caries_p  Sido_No  Region_No  Gender  prev_caries_p  X1  X2  X3  X4_1  \\\n",
       "0             0       14          1       2              1   2   1   2     1   \n",
       "1             0       12          1       2              1   3   1   1     1   \n",
       "2             1       11          1       1              0   4   1   2     0   \n",
       "3             0       25          2       2              1   4   1   2     1   \n",
       "4             0       26          2       1              1   3   1   2     1   \n",
       "\n",
       "   X4_2  ...  X14_6  X14_7  X14_8  X14_9  x15_1  X16  act_caries_p.1  \\\n",
       "0     0  ...      0      0      0      0      1    3               0   \n",
       "1     0  ...      0      0      0      0      3    3               0   \n",
       "2     0  ...      0      1      0      0      2    2               1   \n",
       "3     0  ...      0      1      0      0      2    1               0   \n",
       "4     0  ...      0      1      0      0      1    3               0   \n",
       "\n",
       "   Calculus  Bleeding  Fluorosis  \n",
       "0         0         0          0  \n",
       "1         0         0          0  \n",
       "2         0         0          0  \n",
       "3         0         0          0  \n",
       "4         0         0          0  \n",
       "\n",
       "[5 rows x 45 columns]"
      ]
     },
     "execution_count": 1,
     "metadata": {},
     "output_type": "execute_result"
    }
   ],
   "source": [
    "#load pandas and numpy modules\n",
    "import os \n",
    "import pandas as pd\n",
    "import numpy as np\n",
    "%matplotlib inline\n",
    " \n",
    "#read raw data (here we used 50% concentration data, 25% conc. data is available on 'neu25').\n",
    "#df = pd.read_excel('nitrilase_descriptors.xlsx',sheet_name = 'neu50').copy()\n",
    "#df = pd.read_csv('Oral_health_care_dataset.csv')\n",
    "df = pd.read_excel('Oral_health_care_dataset.xlsx').copy()\n",
    "\n",
    "\n",
    "print(df.shape)\n",
    "\n",
    "df.head(5)"
   ]
  },
  {
   "cell_type": "code",
   "execution_count": 2,
   "metadata": {},
   "outputs": [
    {
     "name": "stdout",
     "output_type": "stream",
     "text": [
      "There is no missing values in this dataframe.\n",
      "\n"
     ]
    }
   ],
   "source": [
    "#check if this dataframe is missing any values\n",
    "#check the columns and the data type of each columns\n",
    "if df.isnull().values.any():\n",
    "    print ('There are missing values! Check and correct before proceed!')\n",
    "    raise\n",
    "else:\n",
    "    print('There is no missing values in this dataframe.\\n')\n",
    "\n",
    "#inspect data\n",
    "#print('check data type for each columns:')\n",
    "#df.info(verbose=True) "
   ]
  },
  {
   "cell_type": "markdown",
   "metadata": {},
   "source": [
    "#### Create a (version of) folder to save images"
   ]
  },
  {
   "cell_type": "code",
   "execution_count": 3,
   "metadata": {},
   "outputs": [
    {
     "name": "stdout",
     "output_type": "stream",
     "text": [
      "Image folder \"./img_V/\" already exist, figures created will overwrite!\n"
     ]
    }
   ],
   "source": [
    "#change the version to avoid overwrite\n",
    "img_dir = './img_V/' \n",
    "\n",
    "if not os.path.isdir(img_dir):\n",
    "    print('Creating image folder {}. Figures will be saved here'.format(img_dir))\n",
    "    os.mkdir(img_dir)\n",
    "else:\n",
    "    print('Image folder \"{}\" already exist, figures created will overwrite!'.format(img_dir))"
   ]
  },
  {
   "cell_type": "code",
   "execution_count": 4,
   "metadata": {},
   "outputs": [],
   "source": [
    "df_cut = df"
   ]
  },
  {
   "cell_type": "code",
   "execution_count": 5,
   "metadata": {},
   "outputs": [
    {
     "data": {
      "text/html": [
       "<div>\n",
       "<style scoped>\n",
       "    .dataframe tbody tr th:only-of-type {\n",
       "        vertical-align: middle;\n",
       "    }\n",
       "\n",
       "    .dataframe tbody tr th {\n",
       "        vertical-align: top;\n",
       "    }\n",
       "\n",
       "    .dataframe thead th {\n",
       "        text-align: right;\n",
       "    }\n",
       "</style>\n",
       "<table border=\"1\" class=\"dataframe\">\n",
       "  <thead>\n",
       "    <tr style=\"text-align: right;\">\n",
       "      <th></th>\n",
       "      <th>act_caries_p</th>\n",
       "      <th>Sido_No</th>\n",
       "      <th>Region_No</th>\n",
       "      <th>Gender</th>\n",
       "      <th>prev_caries_p</th>\n",
       "      <th>X1</th>\n",
       "      <th>X2</th>\n",
       "      <th>X3</th>\n",
       "      <th>X4_1</th>\n",
       "      <th>X4_2</th>\n",
       "      <th>...</th>\n",
       "      <th>X14_6</th>\n",
       "      <th>X14_7</th>\n",
       "      <th>X14_8</th>\n",
       "      <th>X14_9</th>\n",
       "      <th>x15_1</th>\n",
       "      <th>X16</th>\n",
       "      <th>act_caries_p.1</th>\n",
       "      <th>Calculus</th>\n",
       "      <th>Bleeding</th>\n",
       "      <th>Fluorosis</th>\n",
       "    </tr>\n",
       "  </thead>\n",
       "  <tbody>\n",
       "    <tr>\n",
       "      <th>0</th>\n",
       "      <td>0</td>\n",
       "      <td>14</td>\n",
       "      <td>1</td>\n",
       "      <td>2</td>\n",
       "      <td>1</td>\n",
       "      <td>2</td>\n",
       "      <td>1</td>\n",
       "      <td>2</td>\n",
       "      <td>1</td>\n",
       "      <td>0</td>\n",
       "      <td>...</td>\n",
       "      <td>0</td>\n",
       "      <td>0</td>\n",
       "      <td>0</td>\n",
       "      <td>0</td>\n",
       "      <td>1</td>\n",
       "      <td>3</td>\n",
       "      <td>0</td>\n",
       "      <td>0</td>\n",
       "      <td>0</td>\n",
       "      <td>0</td>\n",
       "    </tr>\n",
       "    <tr>\n",
       "      <th>1</th>\n",
       "      <td>0</td>\n",
       "      <td>12</td>\n",
       "      <td>1</td>\n",
       "      <td>2</td>\n",
       "      <td>1</td>\n",
       "      <td>3</td>\n",
       "      <td>1</td>\n",
       "      <td>1</td>\n",
       "      <td>1</td>\n",
       "      <td>0</td>\n",
       "      <td>...</td>\n",
       "      <td>0</td>\n",
       "      <td>0</td>\n",
       "      <td>0</td>\n",
       "      <td>0</td>\n",
       "      <td>3</td>\n",
       "      <td>3</td>\n",
       "      <td>0</td>\n",
       "      <td>0</td>\n",
       "      <td>0</td>\n",
       "      <td>0</td>\n",
       "    </tr>\n",
       "    <tr>\n",
       "      <th>2</th>\n",
       "      <td>1</td>\n",
       "      <td>11</td>\n",
       "      <td>1</td>\n",
       "      <td>1</td>\n",
       "      <td>0</td>\n",
       "      <td>4</td>\n",
       "      <td>1</td>\n",
       "      <td>2</td>\n",
       "      <td>0</td>\n",
       "      <td>0</td>\n",
       "      <td>...</td>\n",
       "      <td>0</td>\n",
       "      <td>1</td>\n",
       "      <td>0</td>\n",
       "      <td>0</td>\n",
       "      <td>2</td>\n",
       "      <td>2</td>\n",
       "      <td>1</td>\n",
       "      <td>0</td>\n",
       "      <td>0</td>\n",
       "      <td>0</td>\n",
       "    </tr>\n",
       "    <tr>\n",
       "      <th>3</th>\n",
       "      <td>0</td>\n",
       "      <td>25</td>\n",
       "      <td>2</td>\n",
       "      <td>2</td>\n",
       "      <td>1</td>\n",
       "      <td>4</td>\n",
       "      <td>1</td>\n",
       "      <td>2</td>\n",
       "      <td>1</td>\n",
       "      <td>0</td>\n",
       "      <td>...</td>\n",
       "      <td>0</td>\n",
       "      <td>1</td>\n",
       "      <td>0</td>\n",
       "      <td>0</td>\n",
       "      <td>2</td>\n",
       "      <td>1</td>\n",
       "      <td>0</td>\n",
       "      <td>0</td>\n",
       "      <td>0</td>\n",
       "      <td>0</td>\n",
       "    </tr>\n",
       "    <tr>\n",
       "      <th>4</th>\n",
       "      <td>0</td>\n",
       "      <td>26</td>\n",
       "      <td>2</td>\n",
       "      <td>1</td>\n",
       "      <td>1</td>\n",
       "      <td>3</td>\n",
       "      <td>1</td>\n",
       "      <td>2</td>\n",
       "      <td>1</td>\n",
       "      <td>0</td>\n",
       "      <td>...</td>\n",
       "      <td>0</td>\n",
       "      <td>1</td>\n",
       "      <td>0</td>\n",
       "      <td>0</td>\n",
       "      <td>1</td>\n",
       "      <td>3</td>\n",
       "      <td>0</td>\n",
       "      <td>0</td>\n",
       "      <td>0</td>\n",
       "      <td>0</td>\n",
       "    </tr>\n",
       "  </tbody>\n",
       "</table>\n",
       "<p>5 rows × 45 columns</p>\n",
       "</div>"
      ],
      "text/plain": [
       "   act_caries_p  Sido_No  Region_No  Gender  prev_caries_p  X1  X2  X3  X4_1  \\\n",
       "0             0       14          1       2              1   2   1   2     1   \n",
       "1             0       12          1       2              1   3   1   1     1   \n",
       "2             1       11          1       1              0   4   1   2     0   \n",
       "3             0       25          2       2              1   4   1   2     1   \n",
       "4             0       26          2       1              1   3   1   2     1   \n",
       "\n",
       "   X4_2  ...  X14_6  X14_7  X14_8  X14_9  x15_1  X16  act_caries_p.1  \\\n",
       "0     0  ...      0      0      0      0      1    3               0   \n",
       "1     0  ...      0      0      0      0      3    3               0   \n",
       "2     0  ...      0      1      0      0      2    2               1   \n",
       "3     0  ...      0      1      0      0      2    1               0   \n",
       "4     0  ...      0      1      0      0      1    3               0   \n",
       "\n",
       "   Calculus  Bleeding  Fluorosis  \n",
       "0         0         0          0  \n",
       "1         0         0          0  \n",
       "2         0         0          0  \n",
       "3         0         0          0  \n",
       "4         0         0          0  \n",
       "\n",
       "[5 rows x 45 columns]"
      ]
     },
     "execution_count": 5,
     "metadata": {},
     "output_type": "execute_result"
    }
   ],
   "source": [
    "df_cut.head()"
   ]
  },
  {
   "cell_type": "markdown",
   "metadata": {},
   "source": [
    "## Data preparation"
   ]
  },
  {
   "cell_type": "markdown",
   "metadata": {},
   "source": [
    "### Remove highly correlated features."
   ]
  },
  {
   "cell_type": "code",
   "execution_count": 6,
   "metadata": {
    "scrolled": false
   },
   "outputs": [
    {
     "name": "stdout",
     "output_type": "stream",
     "text": [
      "# of features before drop: 45\n"
     ]
    },
    {
     "name": "stderr",
     "output_type": "stream",
     "text": [
      "<ipython-input-6-4b8ff1de69c3>:25: DeprecationWarning: `np.bool` is a deprecated alias for the builtin `bool`. To silence this warning, use `bool` by itself. Doing this will not modify any behavior and is safe. If you specifically wanted the numpy scalar type, use `np.bool_` here.\n",
      "Deprecated in NumPy 1.20; for more details and guidance: https://numpy.org/devdocs/release/1.20.0-notes.html#deprecations\n",
      "  upper = corr_matrix_before.where(np.triu(np.ones(corr_matrix_before.shape), k=1).astype(np.bool))\n"
     ]
    },
    {
     "name": "stdout",
     "output_type": "stream",
     "text": [
      "# of features after drop: 44\n",
      "# of features dropped: 1\n"
     ]
    },
    {
     "data": {
      "image/png": "[encoded data removed]",
      "text/plain": [
       "<Figure size 792x648 with 2 Axes>"
      ]
     },
     "metadata": {
      "needs_background": "light"
     },
     "output_type": "display_data"
    },
    {
     "data": {
      "image/png": "[encoded data removed]",
      "text/plain": [
       "<Figure size 792x648 with 2 Axes>"
      ]
     },
     "metadata": {
      "needs_background": "light"
     },
     "output_type": "display_data"
    }
   ],
   "source": [
    "import matplotlib.pyplot as plt\n",
    "\n",
    "#remove highly correlated features (corr > 90%)\n",
    "import seaborn as sns\n",
    "\n",
    "#features\n",
    "features_pre = df_cut\n",
    "\n",
    "print('# of features before drop:', features_pre.shape[1])\n",
    "\n",
    "#create correlation matrix\n",
    "corr_matrix_before = features_pre.corr().abs()\n",
    "\n",
    "#set a cutoff threshold (usually 0.9 or 0.85)\n",
    "cut_th = 0.90\n",
    "\n",
    "#plot heatmap before removing highly correlated features\n",
    "f, ax = plt.subplots(figsize=(11, 9))\n",
    "ax = sns.heatmap(corr_matrix_before, cmap = 'Blues')\n",
    "plt.title('Features before removal at the threshold of {}'.format(cut_th),fontsize = 20)\n",
    "plt.tight_layout()\n",
    "plt.savefig(img_dir + 'corr_matrix_before.png')\n",
    "\n",
    "#select upper triangle of correlation matrix\n",
    "upper = corr_matrix_before.where(np.triu(np.ones(corr_matrix_before.shape), k=1).astype(np.bool))\n",
    "\n",
    "#drop highly correlated features based on set threshold\n",
    "to_drop = [column for column in upper.columns if any(upper[column] > cut_th)]\n",
    "df_cut_cor = df_cut.drop(columns = to_drop)\n",
    "\n",
    "#plot heatmap after removing highly correlated features\n",
    "corr_matrix_after = df_cut_cor.iloc[:,:].corr().abs()\n",
    "f, ax = plt.subplots(figsize=(11, 9))\n",
    "ax = sns.heatmap(corr_matrix_after, cmap = 'Blues')\n",
    "plt.title('Features after removal at the threshold of {}'.format(cut_th),fontsize = 20)\n",
    "plt.tight_layout()\n",
    "plt.savefig(img_dir + 'corr_matrix_after.png')\n",
    "\n",
    "print('# of features after drop:', features_pre.shape[1]-len(to_drop))\n",
    "print('# of features dropped:', len(to_drop))"
   ]
  },
  {
   "cell_type": "markdown",
   "metadata": {},
   "source": [
    "### Data scaling\n",
    "Note this step may not necccesary for some methods such as tree-based methods."
   ]
  },
  {
   "cell_type": "code",
   "execution_count": 7,
   "metadata": {},
   "outputs": [
    {
     "data": {
      "text/html": [
       "<div>\n",
       "<style scoped>\n",
       "    .dataframe tbody tr th:only-of-type {\n",
       "        vertical-align: middle;\n",
       "    }\n",
       "\n",
       "    .dataframe tbody tr th {\n",
       "        vertical-align: top;\n",
       "    }\n",
       "\n",
       "    .dataframe thead th {\n",
       "        text-align: right;\n",
       "    }\n",
       "</style>\n",
       "<table border=\"1\" class=\"dataframe\">\n",
       "  <thead>\n",
       "    <tr style=\"text-align: right;\">\n",
       "      <th></th>\n",
       "      <th>act_caries_p</th>\n",
       "      <th>Sido_No</th>\n",
       "      <th>Region_No</th>\n",
       "      <th>Gender</th>\n",
       "      <th>prev_caries_p</th>\n",
       "      <th>X1</th>\n",
       "      <th>X2</th>\n",
       "      <th>X3</th>\n",
       "      <th>X4_1</th>\n",
       "      <th>X4_2</th>\n",
       "      <th>...</th>\n",
       "      <th>X14_6</th>\n",
       "      <th>X14_7</th>\n",
       "      <th>X14_8</th>\n",
       "      <th>X14_9</th>\n",
       "      <th>x15_1</th>\n",
       "      <th>X16</th>\n",
       "      <th>act_caries_p.1</th>\n",
       "      <th>Calculus</th>\n",
       "      <th>Bleeding</th>\n",
       "      <th>Fluorosis</th>\n",
       "    </tr>\n",
       "  </thead>\n",
       "  <tbody>\n",
       "    <tr>\n",
       "      <th>0</th>\n",
       "      <td>0</td>\n",
       "      <td>14</td>\n",
       "      <td>1</td>\n",
       "      <td>2</td>\n",
       "      <td>1</td>\n",
       "      <td>2</td>\n",
       "      <td>1</td>\n",
       "      <td>2</td>\n",
       "      <td>1</td>\n",
       "      <td>0</td>\n",
       "      <td>...</td>\n",
       "      <td>0</td>\n",
       "      <td>0</td>\n",
       "      <td>0</td>\n",
       "      <td>0</td>\n",
       "      <td>1</td>\n",
       "      <td>3</td>\n",
       "      <td>0</td>\n",
       "      <td>0</td>\n",
       "      <td>0</td>\n",
       "      <td>0</td>\n",
       "    </tr>\n",
       "    <tr>\n",
       "      <th>1</th>\n",
       "      <td>0</td>\n",
       "      <td>12</td>\n",
       "      <td>1</td>\n",
       "      <td>2</td>\n",
       "      <td>1</td>\n",
       "      <td>3</td>\n",
       "      <td>1</td>\n",
       "      <td>1</td>\n",
       "      <td>1</td>\n",
       "      <td>0</td>\n",
       "      <td>...</td>\n",
       "      <td>0</td>\n",
       "      <td>0</td>\n",
       "      <td>0</td>\n",
       "      <td>0</td>\n",
       "      <td>3</td>\n",
       "      <td>3</td>\n",
       "      <td>0</td>\n",
       "      <td>0</td>\n",
       "      <td>0</td>\n",
       "      <td>0</td>\n",
       "    </tr>\n",
       "    <tr>\n",
       "      <th>2</th>\n",
       "      <td>1</td>\n",
       "      <td>11</td>\n",
       "      <td>1</td>\n",
       "      <td>1</td>\n",
       "      <td>0</td>\n",
       "      <td>4</td>\n",
       "      <td>1</td>\n",
       "      <td>2</td>\n",
       "      <td>0</td>\n",
       "      <td>0</td>\n",
       "      <td>...</td>\n",
       "      <td>0</td>\n",
       "      <td>1</td>\n",
       "      <td>0</td>\n",
       "      <td>0</td>\n",
       "      <td>2</td>\n",
       "      <td>2</td>\n",
       "      <td>1</td>\n",
       "      <td>0</td>\n",
       "      <td>0</td>\n",
       "      <td>0</td>\n",
       "    </tr>\n",
       "    <tr>\n",
       "      <th>3</th>\n",
       "      <td>0</td>\n",
       "      <td>25</td>\n",
       "      <td>2</td>\n",
       "      <td>2</td>\n",
       "      <td>1</td>\n",
       "      <td>4</td>\n",
       "      <td>1</td>\n",
       "      <td>2</td>\n",
       "      <td>1</td>\n",
       "      <td>0</td>\n",
       "      <td>...</td>\n",
       "      <td>0</td>\n",
       "      <td>1</td>\n",
       "      <td>0</td>\n",
       "      <td>0</td>\n",
       "      <td>2</td>\n",
       "      <td>1</td>\n",
       "      <td>0</td>\n",
       "      <td>0</td>\n",
       "      <td>0</td>\n",
       "      <td>0</td>\n",
       "    </tr>\n",
       "    <tr>\n",
       "      <th>4</th>\n",
       "      <td>0</td>\n",
       "      <td>26</td>\n",
       "      <td>2</td>\n",
       "      <td>1</td>\n",
       "      <td>1</td>\n",
       "      <td>3</td>\n",
       "      <td>1</td>\n",
       "      <td>2</td>\n",
       "      <td>1</td>\n",
       "      <td>0</td>\n",
       "      <td>...</td>\n",
       "      <td>0</td>\n",
       "      <td>1</td>\n",
       "      <td>0</td>\n",
       "      <td>0</td>\n",
       "      <td>1</td>\n",
       "      <td>3</td>\n",
       "      <td>0</td>\n",
       "      <td>0</td>\n",
       "      <td>0</td>\n",
       "      <td>0</td>\n",
       "    </tr>\n",
       "  </tbody>\n",
       "</table>\n",
       "<p>5 rows × 45 columns</p>\n",
       "</div>"
      ],
      "text/plain": [
       "   act_caries_p  Sido_No  Region_No  Gender  prev_caries_p  X1  X2  X3  X4_1  \\\n",
       "0             0       14          1       2              1   2   1   2     1   \n",
       "1             0       12          1       2              1   3   1   1     1   \n",
       "2             1       11          1       1              0   4   1   2     0   \n",
       "3             0       25          2       2              1   4   1   2     1   \n",
       "4             0       26          2       1              1   3   1   2     1   \n",
       "\n",
       "   X4_2  ...  X14_6  X14_7  X14_8  X14_9  x15_1  X16  act_caries_p.1  \\\n",
       "0     0  ...      0      0      0      0      1    3               0   \n",
       "1     0  ...      0      0      0      0      3    3               0   \n",
       "2     0  ...      0      1      0      0      2    2               1   \n",
       "3     0  ...      0      1      0      0      2    1               0   \n",
       "4     0  ...      0      1      0      0      1    3               0   \n",
       "\n",
       "   Calculus  Bleeding  Fluorosis  \n",
       "0         0         0          0  \n",
       "1         0         0          0  \n",
       "2         0         0          0  \n",
       "3         0         0          0  \n",
       "4         0         0          0  \n",
       "\n",
       "[5 rows x 45 columns]"
      ]
     },
     "execution_count": 7,
     "metadata": {},
     "output_type": "execute_result"
    }
   ],
   "source": [
    "df.head()"
   ]
  },
  {
   "cell_type": "code",
   "execution_count": 8,
   "metadata": {},
   "outputs": [
    {
     "data": {
      "text/plain": [
       "<matplotlib.legend.Legend at 0x7f59583067f0>"
      ]
     },
     "execution_count": 8,
     "metadata": {},
     "output_type": "execute_result"
    },
    {
     "data": {
      "image/png": "[encoded data removed]",
      "text/plain": [
       "<Figure size 432x288 with 1 Axes>"
      ]
     },
     "metadata": {
      "needs_background": "light"
     },
     "output_type": "display_data"
    }
   ],
   "source": [
    "import matplotlib.pyplot as plt\n",
    "\n",
    "df_0 = df[df.act_caries_p==0].Sido_No\n",
    "df_1 = df[df.act_caries_p==1].Sido_No\n",
    "\n",
    "plt.xlabel('Sido_No')\n",
    "plt.ylabel('number of patient')\n",
    "plt.title('patient with caries')\n",
    "plt.hist([df_1,df_0],color=['green','red'],label=['presence of caries','absence of caries'])\n",
    "plt.legend()"
   ]
  },
  {
   "cell_type": "code",
   "execution_count": 9,
   "metadata": {},
   "outputs": [
    {
     "data": {
      "text/plain": [
       "0    20593\n",
       "1     1695\n",
       "Name: act_caries_p, dtype: int64"
      ]
     },
     "execution_count": 9,
     "metadata": {},
     "output_type": "execute_result"
    }
   ],
   "source": [
    "df.act_caries_p.value_counts()"
   ]
  },
  {
   "cell_type": "code",
   "execution_count": 10,
   "metadata": {},
   "outputs": [
    {
     "name": "stdout",
     "output_type": "stream",
     "text": [
      "0.8.0\n"
     ]
    }
   ],
   "source": [
    "import imblearn\n",
    "print(imblearn.__version__)"
   ]
  },
  {
   "cell_type": "code",
   "execution_count": 11,
   "metadata": {},
   "outputs": [],
   "source": [
    "from imblearn.over_sampling import SMOTE\n",
    "from imblearn.under_sampling import RandomUnderSampler\n",
    "\n",
    "df_new = df\n",
    "df_new.shape\n",
    "\n",
    "df_cut_cor=df_new.drop('act_caries_p',axis=1)\n",
    "df_cut_cor=df_cut_cor.drop('Region_No',axis=1)\n",
    "df_cut_cor=df_cut_cor.drop('act_caries_p.1',axis=1)\n",
    "df_scaled = df_cut_cor.copy()\n",
    "\n",
    "Y = df_new['act_caries_p']\n",
    "X = df_scaled\n",
    "\n",
    "over = SMOTE(sampling_strategy=0.7)\n",
    "#under = RandomUnderSampler(sampling_strategy=0.5)\n",
    "\n",
    "#steps = [('o', over), ('u', under)]\n",
    "#pipeline = Pipeline(steps=steps)\n",
    "\n",
    "X, Y = over.fit_resample(X, Y)"
   ]
  },
  {
   "cell_type": "code",
   "execution_count": 12,
   "metadata": {},
   "outputs": [
    {
     "name": "stdout",
     "output_type": "stream",
     "text": [
      "Counter({0: 20593, 1: 14415})\n"
     ]
    }
   ],
   "source": [
    "from collections import Counter\n",
    "\n",
    "# summarize the new class distribution\n",
    "counter = Counter(Y)\n",
    "print(counter)"
   ]
  },
  {
   "cell_type": "code",
   "execution_count": 13,
   "metadata": {},
   "outputs": [],
   "source": [
    "# Import `StandardScaler` from `sklearn.preprocessing`\n",
    "from sklearn.preprocessing import StandardScaler\n",
    "# Define the scaler \n",
    "scaler = StandardScaler().fit(X)\n",
    "# Scale the train set\n",
    "X = scaler.transform(X)\n",
    "# Define the scaler \n",
    "#scaler = StandardScaler().fit(X_train)"
   ]
  },
  {
   "cell_type": "code",
   "execution_count": 14,
   "metadata": {},
   "outputs": [],
   "source": [
    "from sklearn.ensemble import RandomForestClassifier\n",
    "from sklearn import datasets\n",
    "from sklearn.model_selection import train_test_split\n",
    "from sklearn.feature_selection import SelectFromModel\n",
    "from sklearn.metrics import accuracy_score\n",
    "X_train, X_test, y_train, y_test = train_test_split(X, Y, test_size=0.4, random_state=0)"
   ]
  },
  {
   "cell_type": "code",
   "execution_count": 15,
   "metadata": {},
   "outputs": [],
   "source": [
    "feat_labels = []\n",
    "for col in df_scaled.columns:\n",
    "    feat_labels.append(col)"
   ]
  },
  {
   "cell_type": "markdown",
   "metadata": {},
   "source": [
    "<h2>Train A Random Forest Classifier</h2>"
   ]
  },
  {
   "cell_type": "code",
   "execution_count": 16,
   "metadata": {},
   "outputs": [
    {
     "name": "stdout",
     "output_type": "stream",
     "text": [
      "('Sido_No', 0.0845695406216512)\n",
      "('Gender', 0.03394031756366011)\n",
      "('prev_caries_p', 0.028865961546349534)\n",
      "('X1', 0.04564470419742664)\n",
      "('X2', 0.030811667810713553)\n",
      "('X3', 0.0184952213217873)\n",
      "('X4_1', 0.03142107910852255)\n",
      "('X4_2', 0.03398818831461193)\n",
      "('X4_3', 0.0017310256815255825)\n",
      "('X4_4', 0.02985844949893145)\n",
      "('X4_5', 0.005465611081614849)\n",
      "('X4_6', 0.02846322822876966)\n",
      "('X4_7', 0.008255606742970163)\n",
      "('X4_8', 0.029633909073521755)\n",
      "('X4_9', 0.0030231037876784447)\n",
      "('X5_1', 0.016751344130158025)\n",
      "('X5_2', 0.01059480985326444)\n",
      "('X5_3', 0.02541764416380115)\n",
      "('X5_4', 0.011724066613148346)\n",
      "('X5_5', 0.007803669020314374)\n",
      "('X6', 0.0001236243933673877)\n",
      "('X7', 0.03267435224184496)\n",
      "('X8', 0.05539919558141032)\n",
      "('X9', 0.04895964877115625)\n",
      "('X10', 0.022032616701403798)\n",
      "('X11', 0.04950085939646952)\n",
      "('X12', 0.02768850978451508)\n",
      "('X13', 0.002361117313330574)\n",
      "('X14_1', 0.005818363530292876)\n",
      "('X14_2', 0.019433218349943944)\n",
      "('X14_3', 0.014242287857843606)\n",
      "('X14_4', 0.0015119403265602363)\n",
      "('X14_5', 0.012156851654926857)\n",
      "('X14_6', 0.0014914487280225527)\n",
      "('X14_7', 0.030019852984743675)\n",
      "('X14_8', 0.03193085676878103)\n",
      "('X14_9', 0.007810753226520781)\n",
      "('x15_1', 0.039205362958015896)\n",
      "('X16', 0.061038936724173855)\n",
      "('Calculus', 0.012339471729675144)\n",
      "('Bleeding', 0.01863175063694968)\n",
      "('Fluorosis', 0.01916983197963091)\n"
     ]
    }
   ],
   "source": [
    "# Create a random forest classifier\n",
    "clf = RandomForestClassifier(n_estimators=10000, random_state=0, n_jobs=-1)\n",
    "\n",
    "# Train the classifier\n",
    "clf.fit(X_train, y_train)\n",
    "\n",
    "# Print the name and gini importance of each feature\n",
    "for feature in zip(feat_labels, clf.feature_importances_):\n",
    "    print(feature)\n"
   ]
  },
  {
   "cell_type": "markdown",
   "metadata": {},
   "source": [
    "<h2>Identify And Select Most Important Features</h2>"
   ]
  },
  {
   "cell_type": "code",
   "execution_count": 17,
   "metadata": {},
   "outputs": [
    {
     "data": {
      "text/plain": [
       "SelectFromModel(estimator=RandomForestClassifier(n_estimators=10000, n_jobs=-1,\n",
       "                                                 random_state=0),\n",
       "                threshold=0.02)"
      ]
     },
     "execution_count": 17,
     "metadata": {},
     "output_type": "execute_result"
    }
   ],
   "source": [
    "# Create a selector object that will use the random forest classifier to identify\n",
    "# features that have an importance of more than 0.15\n",
    "sfm = SelectFromModel(clf, threshold=0.02)\n",
    "\n",
    "# Train the selector\n",
    "sfm.fit(X_train, y_train)\n"
   ]
  },
  {
   "cell_type": "code",
   "execution_count": 18,
   "metadata": {},
   "outputs": [
    {
     "name": "stdout",
     "output_type": "stream",
     "text": [
      "Sido_No\n",
      "Gender\n",
      "prev_caries_p\n",
      "X1\n",
      "X2\n",
      "X4_1\n",
      "X4_2\n",
      "X4_4\n",
      "X4_6\n",
      "X4_8\n",
      "X5_3\n",
      "X7\n",
      "X8\n",
      "X9\n",
      "X10\n",
      "X11\n",
      "X12\n",
      "X14_7\n",
      "X14_8\n",
      "x15_1\n",
      "X16\n"
     ]
    }
   ],
   "source": [
    "# Print the names of the most important features\n",
    "for feature_list_index in sfm.get_support(indices=True):\n",
    "    print(feat_labels[feature_list_index])\n"
   ]
  },
  {
   "cell_type": "markdown",
   "metadata": {},
   "source": [
    "<h2>Create A Data Subset With Only The Most Important Features</h2>"
   ]
  },
  {
   "cell_type": "code",
   "execution_count": 19,
   "metadata": {},
   "outputs": [],
   "source": [
    "# Transform the data to create a new dataset containing only the most important features\n",
    "# Note: We have to apply the transform to both the training X and test X data.\n",
    "X_important_train = sfm.transform(X_train)\n",
    "X_important_test = sfm.transform(X_test)\n"
   ]
  },
  {
   "cell_type": "markdown",
   "metadata": {},
   "source": [
    "<h2>Train A New Random Forest Classifier Using Only Most Important Features</h2>"
   ]
  },
  {
   "cell_type": "code",
   "execution_count": 21,
   "metadata": {},
   "outputs": [
    {
     "data": {
      "text/plain": [
       "RandomForestClassifier(n_estimators=160, n_jobs=-1, random_state=42)"
      ]
     },
     "execution_count": 21,
     "metadata": {},
     "output_type": "execute_result"
    }
   ],
   "source": [
    "# Create a new random forest classifier for the most important features\n",
    "clf_important = RandomForestClassifier(\n",
    "    max_depth = None,\n",
    "    max_features ='auto',\n",
    "    min_samples_leaf = 1,\n",
    "    n_estimators = 160,\n",
    "    n_jobs = -1,\n",
    "    random_state = 42)\n",
    "# Train the new classifier on the new dataset containing the most important features\n",
    "clf_important.fit(X_important_train, y_train)\n"
   ]
  },
  {
   "cell_type": "markdown",
   "metadata": {},
   "source": [
    "<h2>Compare The Accuracy Of Our Full Feature Classifier To Our Limited Feature Classifier</h2>"
   ]
  },
  {
   "cell_type": "code",
   "execution_count": 22,
   "metadata": {},
   "outputs": [
    {
     "data": {
      "text/plain": [
       "0.9159525849757212"
      ]
     },
     "execution_count": 22,
     "metadata": {},
     "output_type": "execute_result"
    }
   ],
   "source": [
    "# Apply The Full Featured Classifier To The Test Data\n",
    "y_pred = clf.predict(X_test)\n",
    "accuracy_score(y_test, y_pred)\n"
   ]
  },
  {
   "cell_type": "code",
   "execution_count": 23,
   "metadata": {},
   "outputs": [
    {
     "data": {
      "text/plain": [
       "0.9041702370751213"
      ]
     },
     "execution_count": 23,
     "metadata": {},
     "output_type": "execute_result"
    }
   ],
   "source": [
    "y_important_pred = clf_important.predict(X_important_test)\n",
    "accuracy_score(y_test, y_important_pred)\n"
   ]
  }
 ],
 "metadata": {
  "kernelspec": {
   "display_name": "Python 3",
   "language": "python",
   "name": "python3"
  },
  "language_info": {
   "codemirror_mode": {
    "name": "ipython",
    "version": 3
   },
   "file_extension": ".py",
   "mimetype": "text/x-python",
   "name": "python",
   "nbconvert_exporter": "python",
   "pygments_lexer": "ipython3",
   "version": "3.8.8"
  }
 },
 "nbformat": 4,
 "nbformat_minor": 2
}
